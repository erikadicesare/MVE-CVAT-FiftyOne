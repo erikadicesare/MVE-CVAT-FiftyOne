{
 "cells": [
  {
   "cell_type": "code",
   "execution_count": null,
   "metadata": {},
   "outputs": [],
   "source": [
    "import fiftyone as fo\n",
    "import sys"
   ]
  },
  {
   "cell_type": "code",
   "execution_count": null,
   "metadata": {},
   "outputs": [],
   "source": [
    "# The directory containing the source images\n",
    "data_path = \"datasets\"\n",
    "\n",
    "# The path to the COCO labels JSON file\n",
    "labels_path = \"../annotations/annotations_truth.json\"\n",
    "\n",
    "export_dir = \"../../../fiftyone/datasets_generated/\" + sys.argv[1]\n",
    "\n",
    "# Import the dataset\n",
    "dataset = fo.Dataset.from_dir(\n",
    "    dataset_type=fo.types.COCODetectionDataset, #CVATImageDataset\n",
    "    label_field=\"truth\",\n",
    "    data_path=data_path,\n",
    "    labels_path=labels_path,\n",
    "    include_id=True,\n",
    "    name=sys.argv[1]\n",
    ")"
   ]
  },
  {
   "cell_type": "code",
   "execution_count": null,
   "metadata": {},
   "outputs": [],
   "source": [
    "session = fo.launch_app(dataset)"
   ]
  }
 ],
 "metadata": {
  "kernelspec": {
   "display_name": "Python 3 (ipykernel)",
   "language": "python",
   "name": "python3"
  },
  "language_info": {
   "codemirror_mode": {
    "name": "ipython",
    "version": 3
   },
   "file_extension": ".py",
   "mimetype": "text/x-python",
   "name": "python",
   "nbconvert_exporter": "python",
   "pygments_lexer": "ipython3",
   "version": "3.9.13"
  },
  "vscode": {
   "interpreter": {
    "hash": "712d69f91a7095f24fe8bfe47f1e15e9fb2a59d74ddbbc9df3dfb6366ab0ebc0"
   }
  }
 },
 "nbformat": 4,
 "nbformat_minor": 2
}
